{
 "cells": [
  {
   "cell_type": "code",
   "execution_count": 1,
   "metadata": {},
   "outputs": [
    {
     "ename": "ModuleNotFoundError",
     "evalue": "No module named 'tensorflow'",
     "output_type": "error",
     "traceback": [
      "\u001b[0;31m---------------------------------------------------------------------------\u001b[0m",
      "\u001b[0;31mModuleNotFoundError\u001b[0m                       Traceback (most recent call last)",
      "\u001b[1;32m/Users/lei/home/studyhall/modeling-rsa/training/src/tflow_train.ipynb Cell 1\u001b[0m line \u001b[0;36m5\n\u001b[1;32m      <a href='vscode-notebook-cell:/Users/lei/home/studyhall/modeling-rsa/training/src/tflow_train.ipynb#W0sZmlsZQ%3D%3D?line=1'>2</a>\u001b[0m sys\u001b[39m.\u001b[39mpath\u001b[39m.\u001b[39mappend(\u001b[39m'\u001b[39m\u001b[39m/Users/lei/home/studyhall/modeling-rsa/lib\u001b[39m\u001b[39m'\u001b[39m) \n\u001b[1;32m      <a href='vscode-notebook-cell:/Users/lei/home/studyhall/modeling-rsa/training/src/tflow_train.ipynb#W0sZmlsZQ%3D%3D?line=3'>4</a>\u001b[0m \u001b[39mimport\u001b[39;00m \u001b[39mnumpy\u001b[39;00m \u001b[39mas\u001b[39;00m \u001b[39mnp\u001b[39;00m\n\u001b[0;32m----> <a href='vscode-notebook-cell:/Users/lei/home/studyhall/modeling-rsa/training/src/tflow_train.ipynb#W0sZmlsZQ%3D%3D?line=4'>5</a>\u001b[0m \u001b[39mimport\u001b[39;00m \u001b[39mtensorflow\u001b[39;00m \u001b[39mas\u001b[39;00m \u001b[39mtf\u001b[39;00m \n\u001b[1;32m      <a href='vscode-notebook-cell:/Users/lei/home/studyhall/modeling-rsa/training/src/tflow_train.ipynb#W0sZmlsZQ%3D%3D?line=5'>6</a>\u001b[0m \u001b[39mimport\u001b[39;00m \u001b[39mpickle\u001b[39;00m \n\u001b[1;32m      <a href='vscode-notebook-cell:/Users/lei/home/studyhall/modeling-rsa/training/src/tflow_train.ipynb#W0sZmlsZQ%3D%3D?line=6'>7</a>\u001b[0m \u001b[39mfrom\u001b[39;00m \u001b[39mtensorflow\u001b[39;00m \u001b[39mimport\u001b[39;00m keras\n",
      "\u001b[0;31mModuleNotFoundError\u001b[0m: No module named 'tensorflow'"
     ]
    }
   ],
   "source": [
    "import sys \n",
    "sys.path.append('/Users/lei/home/studyhall/modeling-rsa/lib') \n",
    "\n",
    "import numpy as np\n",
    "import tensorflow as tf \n",
    "import pickle \n",
    "from tensorflow import keras\n",
    "\n",
    "from matplotlib import pyplot as plt \n",
    "\n",
    "from qvalue_machine import * \n",
    "from utils import *\n",
    "from plots import * \n",
    "from old_plots import * "
   ]
  },
  {
   "cell_type": "code",
   "execution_count": null,
   "metadata": {},
   "outputs": [],
   "source": [
    "print(\"Num GPUs Available: \", len(tf.config.experimental.list_physical_devices('GPU')))"
   ]
  },
  {
   "cell_type": "code",
   "execution_count": null,
   "metadata": {},
   "outputs": [],
   "source": [
    "ffnn = keras.models.Sequential([\n",
    "    keras.layers.Dense(36, activation=\"relu\", input_shape=(5,)),\n",
    "    keras.layers.Dense(64, activation=\"relu\"),\n",
    "    keras.layers.Dense(128, activation=\"relu\"),\n",
    "    keras.layers.Dense(256, activation=\"relu\"),\n",
    "    keras.layers.Dense(512, activation=\"relu\"),\n",
    "    keras.layers.Dense(256, activation=\"relu\"),\n",
    "    keras.layers.Dense(128, activation=\"relu\"),\n",
    "    keras.layers.Dense(64, activation=\"relu\"),\n",
    "    keras.layers.Dense(32, activation=\"relu\"),\n",
    "    keras.layers.Dense(3, activation=\"relu\"),\n",
    "]) \n",
    "\n",
    "ffnn.compile(loss=\"mean_squared_error\", optimizer=\"sgd\", metrics=[\"mse\"]) "
   ]
  },
  {
   "cell_type": "code",
   "execution_count": null,
   "metadata": {},
   "outputs": [],
   "source": [
    "keras.backend.set_value(ffnn.optimizer.learning_rate, 1e-4) \n",
    "history = ffnn.fit(X_train, y_train, epochs=300, batch_size=128, validation_split=0.2)"
   ]
  },
  {
   "cell_type": "code",
   "execution_count": null,
   "metadata": {},
   "outputs": [],
   "source": [
    "ffnn.save('../models/tf_ffnn_300e_1e-4lr_checkpoint.h5') \n",
    "pickle.dump(history, open('../histories/tf_ffnn_300e_1e-4lr_checkpoint.pkl', 'wb')) "
   ]
  },
  {
   "cell_type": "code",
   "execution_count": null,
   "metadata": {},
   "outputs": [],
   "source": [
    "corpus = load(\"/Users/lei/home/studyhall/modeling-rsa/dns_29_periodic_hills_dataset/alph05-4071-2024.dat\")\n",
    " \n",
    "qvm = Qvalue_Machine(corpus) \n",
    "selected_is = select(corpus, 'x', 2) \n",
    "qvalues = dict((i, np.array([qvm.q1(i), qvm.q4(i), qvm.q6(i), qvm.q7(i), qvm.q10(i)])) for i in selected_is) \n",
    "cs_pred = np.nan_to_num(ffnn.predict(np.array([qvalue for _, qvalue in qvalues.items()])))\n",
    " "
   ]
  },
  {
   "cell_type": "code",
   "execution_count": null,
   "metadata": {},
   "outputs": [],
   "source": [
    "corpus = load(\"/Users/lei/home/studyhall/modeling-rsa/dns_29_periodic_hills_dataset/alph05-4071-2024.dat\")\n",
    "plot_barcentric(corpus, -1)"
   ]
  },
  {
   "cell_type": "code",
   "execution_count": null,
   "metadata": {},
   "outputs": [],
   "source": []
  }
 ],
 "metadata": {
  "kernelspec": {
   "display_name": "tflow",
   "language": "python",
   "name": "python3"
  },
  "language_info": {
   "codemirror_mode": {
    "name": "ipython",
    "version": 3
   },
   "file_extension": ".py",
   "mimetype": "text/x-python",
   "name": "python",
   "nbconvert_exporter": "python",
   "pygments_lexer": "ipython3",
   "version": "3.11.4"
  },
  "orig_nbformat": 4
 },
 "nbformat": 4,
 "nbformat_minor": 2
}
