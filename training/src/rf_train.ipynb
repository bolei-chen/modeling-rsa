{
 "cells": [
  {
   "cell_type": "code",
   "execution_count": 5,
   "metadata": {},
   "outputs": [],
   "source": [
    "import sys \n",
    "import warnings\n",
    "warnings.filterwarnings('ignore')\n",
    "sys.path.append('/Users/lei/home/studyhall/modeling-rsa/lib') \n",
    " \n",
    "import pickle \n",
    "import numpy as np \n",
    "from sklearn.ensemble import RandomForestRegressor as random_forest\n",
    "from sklearn import metrics\n"
   ]
  },
  {
   "cell_type": "code",
   "execution_count": 6,
   "metadata": {},
   "outputs": [],
   "source": [
    "with open('../pk_files/train_test_split.pkl', 'rb') as f:\n",
    "    X_train, X_val, y_train, y_val = pickle.load(f)"
   ]
  },
  {
   "cell_type": "code",
   "execution_count": 7,
   "metadata": {},
   "outputs": [],
   "source": [
    "rf = random_forest(n_estimators=300, max_features=3)\n",
    "rf.fit(np.nan_to_num(X_train), y_train)\n",
    "with open('../models/rf.pkl', 'wb') as f:\n",
    "    pickle.dump(rf, f)"
   ]
  },
  {
   "cell_type": "code",
   "execution_count": 8,
   "metadata": {},
   "outputs": [
    {
     "name": "stdout",
     "output_type": "stream",
     "text": [
      "Mean Absolute Error (MAE): 0.004429039953210506\n",
      "Mean Squared Error (MSE): 0.0002901125243155826\n",
      "Root Mean Squared Error (RMSE): 0.01700546484614926\n",
      "Mean Absolute Percentage Error (MAPE): 34117599863.917725\n"
     ]
    }
   ],
   "source": [
    "y_hats = rf.predict(np.nan_to_num(X_val))\n",
    "print('Mean Absolute Error (MAE):', metrics.mean_absolute_error(y_val, y_hats))\n",
    "print('Mean Squared Error (MSE):', metrics.mean_squared_error(y_val, y_hats))\n",
    "print('Root Mean Squared Error (RMSE):', metrics.mean_squared_error(y_val, y_hats, squared=False))\n",
    "print('Mean Absolute Percentage Error (MAPE):', metrics.mean_absolute_percentage_error(y_val, y_hats))"
   ]
  },
  {
   "cell_type": "code",
   "execution_count": null,
   "metadata": {},
   "outputs": [],
   "source": []
  },
  {
   "cell_type": "code",
   "execution_count": null,
   "metadata": {},
   "outputs": [],
   "source": []
  }
 ],
 "metadata": {
  "kernelspec": {
   "display_name": "tflow",
   "language": "python",
   "name": "python3"
  },
  "language_info": {
   "codemirror_mode": {
    "name": "ipython",
    "version": 3
   },
   "file_extension": ".py",
   "mimetype": "text/x-python",
   "name": "python",
   "nbconvert_exporter": "python",
   "pygments_lexer": "ipython3",
   "version": "3.11.4"
  },
  "orig_nbformat": 4
 },
 "nbformat": 4,
 "nbformat_minor": 2
}
