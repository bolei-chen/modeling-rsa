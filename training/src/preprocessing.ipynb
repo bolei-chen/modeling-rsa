{
 "cells": [
  {
   "cell_type": "code",
   "execution_count": 1,
   "metadata": {},
   "outputs": [],
   "source": [
    "import sys \n",
    "sys.path.append('/Users/lei/home/studyhall/modeling-rsa/lib') \n",
    " \n",
    "import pickle \n",
    "import pandas as pd \n",
    "import numpy as np \n",
    "from tqdm import tqdm \n",
    "from matplotlib import pyplot as plt \n",
    "from sklearn.model_selection import train_test_split \n",
    " \n",
    "import torch\n",
    " \n",
    "from preprocessor import Preprocessor \n",
    "from utils import * \n",
    "from dataset import FeatureSet "
   ]
  },
  {
   "cell_type": "code",
   "execution_count": 2,
   "metadata": {},
   "outputs": [
    {
     "data": {
      "text/plain": [
       "array([[ 0.00000000e+00,  0.00000000e+00,  0.00000000e+00, ...,\n",
       "         0.00000000e+00,  0.00000000e+00,  0.00000000e+00],\n",
       "       [ 1.06015624e-02,  0.00000000e+00,  0.00000000e+00, ...,\n",
       "         0.00000000e+00,  0.00000000e+00,  0.00000000e+00],\n",
       "       [ 2.12031249e-02,  0.00000000e+00,  0.00000000e+00, ...,\n",
       "         0.00000000e+00,  0.00000000e+00,  0.00000000e+00],\n",
       "       ...,\n",
       "       [ 4.03919506e+00,  2.02399993e+00, -1.85170546e-11, ...,\n",
       "         9.92156222e-14,  0.00000000e+00,  9.09025029e-04],\n",
       "       [ 4.04979706e+00,  2.02399993e+00,  1.56871591e-11, ...,\n",
       "         4.30580193e-15,  0.00000000e+00,  9.08801160e-04],\n",
       "       [ 4.06039858e+00,  2.02399993e+00,  5.56004439e-11, ...,\n",
       "        -4.31572259e-14,  0.00000000e+00,  9.08638695e-04]])"
      ]
     },
     "execution_count": 2,
     "metadata": {},
     "output_type": "execute_result"
    }
   ],
   "source": [
    "corpus = load(\"/Users/lei/home/studyhall/modeling-rsa/dns_29_periodic_hills_dataset/alph05-4071-2024.dat\")\n",
    "corpus "
   ]
  },
  {
   "cell_type": "code",
   "execution_count": 3,
   "metadata": {},
   "outputs": [
    {
     "data": {
      "text/plain": [
       "[<matplotlib.lines.Line2D at 0x289471b90>]"
      ]
     },
     "execution_count": 3,
     "metadata": {},
     "output_type": "execute_result"
    },
    {
     "data": {
      "image/png": "[encoded data removed]",
      "text/plain": [
       "<Figure size 640x480 with 1 Axes>"
      ]
     },
     "metadata": {},
     "output_type": "display_data"
    }
   ],
   "source": [
    "preprocessor = Preprocessor(corpus)\n",
    "liutex_vals = [preprocessor.liutex(i) for i in range(0, len(corpus))] \n",
    "plt.plot(liutex_vals) "
   ]
  },
  {
   "cell_type": "code",
   "execution_count": 4,
   "metadata": {},
   "outputs": [
    {
     "name": "stderr",
     "output_type": "stream",
     "text": [
      "100%|██████████| 98688/98688 [00:16<00:00, 6005.18it/s]\n",
      "100%|██████████| 98688/98688 [00:03<00:00, 26499.66it/s]\n"
     ]
    }
   ],
   "source": [
    "p = Preprocessor(corpus)\n",
    "features = [[p.liutex(i) ** 2, p.sheer(i) ** 2, p.liutex(i) * p.sheer(i), p.q1(i), p.q4(i), p.q6(i), p.q7(i), p.q10(i)] for i in tqdm(range(0, len(corpus)))] \n",
    "labels = [to_cs_wrapper(corpus, i) for i in tqdm(range(0, len(corpus)))] \n",
    "with open('../pk_files/corpus.pkl', 'wb') as f:\n",
    "    pickle.dump((features, labels), f) "
   ]
  },
  {
   "cell_type": "code",
   "execution_count": 5,
   "metadata": {},
   "outputs": [],
   "source": [
    "with open('../pk_files/corpus.pkl', 'rb') as f:\n",
    "    (features, labels) = pickle.load(f)"
   ]
  },
  {
   "cell_type": "code",
   "execution_count": 6,
   "metadata": {},
   "outputs": [
    {
     "name": "stdout",
     "output_type": "stream",
     "text": [
      "feature set shape: (98688, 8)\n",
      "label set shape: (98688, 3)\n"
     ]
    }
   ],
   "source": [
    "print(\"feature set shape: {}\".format(np.shape(features)))\n",
    "print(\"label set shape: {}\".format(np.shape(labels))) "
   ]
  },
  {
   "cell_type": "code",
   "execution_count": 7,
   "metadata": {},
   "outputs": [
    {
     "name": "stdout",
     "output_type": "stream",
     "text": [
      "(69081, 8)\n",
      "(29607, 8)\n",
      "(69081, 3)\n",
      "(29607, 3)\n"
     ]
    }
   ],
   "source": [
    "X_train, X_val, y_train, y_val = train_test_split(features, labels, test_size=0.3)\n",
    "print(np.shape(X_train)) \n",
    "print(np.shape(X_val)) \n",
    "print(np.shape(y_train)) \n",
    "print(np.shape(y_val)) "
   ]
  },
  {
   "cell_type": "code",
   "execution_count": 8,
   "metadata": {},
   "outputs": [],
   "source": [
    "X_train = np.nan_to_num(X_train)\n",
    "X_val = np.nan_to_num(X_val)\n",
    "y_train = np.nan_to_num(y_train)\n",
    "y_val = np.nan_to_num(y_val)"
   ]
  },
  {
   "cell_type": "code",
   "execution_count": 12,
   "metadata": {},
   "outputs": [],
   "source": [
    "with open('../pk_files/train_test_split.pkl', 'wb') as f:\n",
    "    pickle.dump((X_train, X_val, y_train, y_val), f)"
   ]
  },
  {
   "cell_type": "code",
   "execution_count": 13,
   "metadata": {},
   "outputs": [],
   "source": [
    "data_train = FeatureSet(X_train, y_train, len(y_train))\n",
    "data_test = FeatureSet(X_val, y_val, len(y_val))"
   ]
  },
  {
   "cell_type": "code",
   "execution_count": 14,
   "metadata": {},
   "outputs": [],
   "source": [
    "with open('../pk_files/dataset.pkl', 'wb') as f:\n",
    "    pickle.dump((data_train, data_test), f)"
   ]
  },
  {
   "cell_type": "code",
   "execution_count": null,
   "metadata": {},
   "outputs": [],
   "source": []
  },
  {
   "cell_type": "code",
   "execution_count": null,
   "metadata": {},
   "outputs": [],
   "source": []
  },
  {
   "cell_type": "code",
   "execution_count": null,
   "metadata": {},
   "outputs": [],
   "source": []
  },
  {
   "cell_type": "code",
   "execution_count": null,
   "metadata": {},
   "outputs": [],
   "source": []
  }
 ],
 "metadata": {
  "kernelspec": {
   "display_name": "pyt",
   "language": "python",
   "name": "python3"
  },
  "language_info": {
   "codemirror_mode": {
    "name": "ipython",
    "version": 3
   },
   "file_extension": ".py",
   "mimetype": "text/x-python",
   "name": "python",
   "nbconvert_exporter": "python",
   "pygments_lexer": "ipython3",
   "version": "3.11.4"
  },
  "orig_nbformat": 4
 },
 "nbformat": 4,
 "nbformat_minor": 2
}
