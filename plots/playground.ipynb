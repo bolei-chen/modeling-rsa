{
 "cells": [
  {
   "cell_type": "code",
   "execution_count": 2,
   "metadata": {},
   "outputs": [],
   "source": [
    "import sys\n",
    "sys.path.append(\"/Users/lei/home/studyhall/modeling-rsa/lib\")\n",
    "\n",
    "import numpy as np\n",
    "\n",
    "from utils import *\n",
    "from plots import *\n"
   ]
  },
  {
   "cell_type": "code",
   "execution_count": 16,
   "metadata": {},
   "outputs": [
    {
     "data": {
      "text/plain": [
       "(98688, 15)"
      ]
     },
     "execution_count": 16,
     "metadata": {},
     "output_type": "execute_result"
    }
   ],
   "source": [
    "corpus = load(\"../dns_29_periodic_hills_dataset/alph05-4071-2024.dat\")\n",
    "np.shape(corpus)"
   ]
  },
  {
   "cell_type": "code",
   "execution_count": 17,
   "metadata": {},
   "outputs": [],
   "source": [
    "columns = [\"x\",\"y\",\"u_mean\",\"v_mean\",\"w_mean\",\"p_mean\",\"dissipation_mean\",\"vorticity_mean\", \"uu\",\"vv\",\"ww\",\"uv\",\"uw\",\"vw\",\"pp\"]\n",
    "i2c = dict(zip(range(0, len(columns)), columns)) \n",
    "c2i = dict(zip(columns, range(0, len(columns)))) \n",
    "r = 500 "
   ]
  },
  {
   "cell_type": "code",
   "execution_count": 29,
   "metadata": {},
   "outputs": [
    {
     "name": "stdout",
     "output_type": "stream",
     "text": [
      "lambdas: 0.16977928971186057 0.15883061401967513 -0.33207833524982405\n",
      "cs: 0.010948675692185439 0.9818178985389984 0.0037649942505277867\n",
      "coords: [0.01283117 0.00326058]\n"
     ]
    }
   ],
   "source": [
    "delta = np.array([[1, 0, 0],\n",
    "                [0, 1, 0],\n",
    "                [0, 0, 1]]) \n",
    "meanings = np.array([['uu', 'uv', 'uw'],\n",
    "                    ['uv', 'vv', 'vw'],\n",
    "                    ['uw', 'vw', 'ww']])\n",
    "\n",
    "s = corpus[r]\n",
    " \n",
    "t = np.array([[s[c2i[meanings[i][j]]] for j in range(0, 3)] for i in range(0, 3)])\n",
    "k = np.sum([t[i][i] for i in range(0, 3)])\n",
    " \n",
    "if k == 0:\n",
    "    t = - delta / 3 \n",
    "else:\n",
    "    t = t / k - delta / 3 \n",
    "\n",
    "for i in range(0, 3):\n",
    "    t[i][i] -=  k / 3 \n",
    "\n",
    "[lambda1, lambda2, lambda3] = np.sort(np.linalg.eigvals(t))[::-1]\n",
    "c1 = lambda1 - lambda2 \n",
    "c2 = 2 * (lambda2 - lambda3) \n",
    "c3 = 3 * lambda3 + 1 \n",
    " \n",
    "cvalues = np.array([c1, c2, c3])\n",
    "corners = np.array([[1, 0], [0, 0], [0.5, np.sqrt(3) / 2]])\n",
    "coords = c1 * corners[0] + c2 * corners[1] + c3 * corners[2]\n",
    " \n",
    "print(\"lambdas:\", lambda1, lambda2, lambda3) \n",
    "print(\"cs:\", c1, c2, c3) \n",
    "print(\"coords:\", coords) "
   ]
  },
  {
   "cell_type": "code",
   "execution_count": null,
   "metadata": {},
   "outputs": [],
   "source": []
  }
 ],
 "metadata": {
  "kernelspec": {
   "display_name": "tflow",
   "language": "python",
   "name": "python3"
  },
  "language_info": {
   "codemirror_mode": {
    "name": "ipython",
    "version": 3
   },
   "file_extension": ".py",
   "mimetype": "text/x-python",
   "name": "python",
   "nbconvert_exporter": "python",
   "pygments_lexer": "ipython3",
   "version": "3.10.13"
  },
  "orig_nbformat": 4
 },
 "nbformat": 4,
 "nbformat_minor": 2
}
